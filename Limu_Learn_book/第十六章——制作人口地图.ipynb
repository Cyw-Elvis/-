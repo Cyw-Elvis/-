{
 "cells": [
  {
   "cell_type": "code",
   "execution_count": null,
   "id": "15526b48-7b0c-4a22-8782-ae3c77cac7c8",
   "metadata": {},
   "outputs": [],
   "source": [
    "import json  \n",
    "# 将数据加载到一个列表中  \n",
    "filename = 'population_data.json'  \n",
    "with open(filename) as f:   \n",
    "    pop_data = json.load(f)  \n",
    "# 打印每个国家2010年的人口数量  \n",
    "for pop_dict in pop_data:  \n",
    "        if pop_dict['Year'] == '2010':  \n",
    "                country_name = pop_dict['Country Name']  \n",
    "                population = pop_dict['Value']  \n",
    "                print(country_name + \":\" + population)\n",
    "# 1. `import json`：导入Python的`json`模块，这个模块可以用来解析和生成JSON数据。\n",
    "# 2. `filename = 'population_data.json'`：将文件名`population_data.json`赋值给变量`filename`，这个文件包含了人口的JSON数据。\n",
    "# 3. `with open(filename) as f:`：使用`with`语句和`open`函数打开名为`filename`的文件，并将文件对象赋值给变量`f`。`with`语句确保文件会在操作完成后正确关闭。\n",
    "# 4. `pop_data = json.load(f)`：调用`json`模块的`load`函数，将文件对象`f`中的JSON数据解析为一个Python列表，并将这个列表赋值给变量`pop_data`。\n",
    "# 5. `for pop_dict in pop_data:`：使用`for`循环遍历`pop_data`列表中的每个元素。列表中的每个元素都是一个字典，代表一个国家的人口数据。\n",
    "# 6. `if pop_dict['Year'] == '2010':`：检查当前字典中的`Year`键对应的值是否为`2010`。如果是，则执行下面的代码块。\n",
    "# 7. `country_name = pop_dict['Country Name']`：从字典中提取`Country Name`键对应的值，即国家名称，并将其赋值给变量`country_name`。\n",
    "# 8. `population = pop_dict['Value']`：从字典中提取`Value`键对应的值，即人口数量，并将其赋值给变量`population`。\n",
    "# 9. `print(country_name + \":\" + population)`：打印出国家名称和人口数量，两者之间用冒号`:`分隔。\n",
    "# 这段代码假设JSON文件中的数据格式是每个条目都是一个字典，其中包含`Year`、`Country Name`和`Value`这三个键。代码会遍历所有条目，只打印出那些年份为2010的数据。\n"
   ]
  },
  {
   "cell_type": "code",
   "execution_count": null,
   "id": "de0213ac-63b7-4777-8a67-0e55a03e4989",
   "metadata": {},
   "outputs": [],
   "source": [
    "import json  \n",
    "# 将数据加载到一个列表中  \n",
    "filename = 'population_data.json'  \n",
    "with open(filename) as f:   \n",
    "    pop_data = json.load(f)  \n",
    "# 打印每个国家2010年的人口数量  \n",
    "for pop_dict in pop_data:    \n",
    "    if pop_dict['Year'] == '2010':     \n",
    "        country = pop_dict['Country Name']      \n",
    "        population = int(float(pop_dict['Value']))       \n",
    "        print(country + \":\" + str(population))\n",
    "# 原始数据的格式非常不统一，因此经常会出现错误。导致上述错误的原因是，Python不能直接将包含小数点的字符串 “1127437398.85751” 转换为整数（这个小数值可能是人口数据缺失时通过插值得到的）。\n",
    "        # 为消除这种错误，我们首先将字符串再转换为浮点数，再将浮点数转换为整数："
   ]
  },
  {
   "cell_type": "code",
   "execution_count": null,
   "id": "3d8e9d37-c364-4a64-8fa0-a4292472e680",
   "metadata": {},
   "outputs": [],
   "source": [
    "import json  \n",
    "# 将数据加载到一个列表中  \n",
    "filename = 'population_data.json'  \n",
    "with open(filename) as f:   \n",
    "    pop_data = json.load(f)  \n",
    "# 打印每个国家2010年的人口数量 \n",
    "for pop_dict in pop_data:    \n",
    "    if pop_dict['Year'] == '2010':     \n",
    "        country = pop_dict['Country Name']       \n",
    "        population = int(float(pop_dict['Value']))      \n",
    "        print(country + \":\" + str(population))\n",
    "# 函数float()将字符串转换为小数，而函数int()丢弃小数部分，返回一个整数。函数float()将字符串转换为小数，而函数int()丢弃小数部分，返回一个整数"
   ]
  },
  {
   "cell_type": "code",
   "execution_count": null,
   "id": "d38675f3-68c9-455a-a47f-a4de45f09f84",
   "metadata": {},
   "outputs": [],
   "source": [
    "# 16.2.4——获取两个字母的国别码\n",
    "\n",
    "# 国别码是ISO 3166-1国家代码，用于表示世界上的各个国家和地区。"
   ]
  },
  {
   "cell_type": "code",
   "execution_count": null,
   "id": "58df139c-6453-41d9-9e05-1e9ab4af850c",
   "metadata": {},
   "outputs": [],
   "source": [
    "# Python使用的国别码存储在模块1.8n（internationalization的缩写）中。\n",
    "# 字典COUNTRIES包含的键和值分别为两个字国的国别码和国家名。\n",
    "# 要查看这些国别码，可从模块1.8n中导入这个字典，并打印其键和值："
   ]
  },
  {
   "cell_type": "code",
   "execution_count": null,
   "id": "930d7e8a-bebb-4b01-a055-e9960bb1250e",
   "metadata": {},
   "outputs": [],
   "source": [
    "from pygal.i18n import COUNTRIES\n",
    "for country_code in sorted(COUNTRIES.keys()):\n",
    "print(country_code, COUNTRIES[country_code])"
   ]
  },
  {
   "cell_type": "code",
   "execution_count": null,
   "id": "d303d989-b514-4e9b-90de-ffc45b7cdbee",
   "metadata": {},
   "outputs": [],
   "source": [
    "# 文件定义了一个名为get_country_code的函数，用于根据给定的国家名称在COUNTRIES列表中查找并返回其国别码。具体代码如下：\n",
    "# country_codes.py"
   ]
  },
  {
   "cell_type": "code",
   "execution_count": null,
   "id": "e4c2eb41-f1bc-48ad-8852-df1dd2b547c4",
   "metadata": {},
   "outputs": [],
   "source": [
    "from pygal.i18n import COUNTRIES  \n",
    "def get_country_code(country_name):    \n",
    "    \"\"\"根据指定的国家，返回Pygal使用的两个字母的国别码\"\"\"   \n",
    "    for code, name in COUNTRIES.items():      \n",
    "        if name == country_name:           \n",
    "            return code                  \n",
    "    # 如果没有找到指定的国家，就返回None     \n",
    "    return None  \n",
    "print(get_country_code('Andorra'))  \n",
    "print(get_country_code('United Arab Emirates'))  \n",
    "print(get_country_code('Afghanistan'))"
   ]
  },
  {
   "cell_type": "code",
   "execution_count": null,
   "id": "ec5e972a-a20b-45b4-8e85-014a290a0df2",
   "metadata": {},
   "outputs": [],
   "source": [
    "这是一段Python代码，具体内容如下：  \n",
    "import json  \n",
    "from country_codes import get_country_code  \n",
    "---snip---  \n",
    "# 打印每个国家2010年的人口数量  \n",
    "for pop_dict in pop_data:    \n",
    "    if pop_dict['Year'] == '2010':   \n",
    "        country_name = pop_dict['Country Name']   \n",
    "        population = int(float(pop_dict['Value']))   \n",
    "        code = get_country_code(country_name)   \n",
    "        if code:   \n",
    "            print(code + ':' + str(population))   \n",
    "        else:   \n",
    "            print('ERROR -' + country_name)\n"
   ]
  }
 ],
 "metadata": {
  "kernelspec": {
   "display_name": "pytorch",
   "language": "python",
   "name": "pytorch"
  },
  "language_info": {
   "codemirror_mode": {
    "name": "ipython",
    "version": 3
   },
   "file_extension": ".py",
   "mimetype": "text/x-python",
   "name": "python",
   "nbconvert_exporter": "python",
   "pygments_lexer": "ipython3",
   "version": "3.9.19"
  }
 },
 "nbformat": 4,
 "nbformat_minor": 5
}
